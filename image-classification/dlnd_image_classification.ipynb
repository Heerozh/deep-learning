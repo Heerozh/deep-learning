{
 "cells": [
  {
   "cell_type": "markdown",
   "metadata": {
    "collapsed": true
   },
   "source": [
    "# Image Classification\n",
    "In this project, you'll classify images from the [CIFAR-10 dataset](https://www.cs.toronto.edu/~kriz/cifar.html).  The dataset consists of airplanes, dogs, cats, and other objects. You'll preprocess the images, then train a convolutional neural network on all the samples. The images need to be normalized and the labels need to be one-hot encoded.  You'll get to apply what you learned and build a convolutional, max pooling, dropout, and fully connected layers.  At the end, you'll get to see your neural network's predictions on the sample images.\n",
    "## Get the Data\n",
    "Run the following cell to download the [CIFAR-10 dataset for python](https://www.cs.toronto.edu/~kriz/cifar-10-python.tar.gz)."
   ]
  },
  {
   "cell_type": "code",
   "execution_count": 1,
   "metadata": {
    "collapsed": false
   },
   "outputs": [
    {
     "name": "stdout",
     "output_type": "stream",
     "text": [
      "All files found!\n"
     ]
    }
   ],
   "source": [
    "\"\"\"\n",
    "DON'T MODIFY ANYTHING IN THIS CELL THAT IS BELOW THIS LINE\n",
    "\"\"\"\n",
    "from urllib.request import urlretrieve\n",
    "from os.path import isfile, isdir\n",
    "from tqdm import tqdm\n",
    "import problem_unittests as tests\n",
    "import tarfile\n",
    "\n",
    "cifar10_dataset_folder_path = 'cifar-10-batches-py'\n",
    "\n",
    "class DLProgress(tqdm):\n",
    "    last_block = 0\n",
    "\n",
    "    def hook(self, block_num=1, block_size=1, total_size=None):\n",
    "        self.total = total_size\n",
    "        self.update((block_num - self.last_block) * block_size)\n",
    "        self.last_block = block_num\n",
    "\n",
    "if not isfile('cifar-10-python.tar.gz'):\n",
    "    with DLProgress(unit='B', unit_scale=True, miniters=1, desc='CIFAR-10 Dataset') as pbar:\n",
    "        urlretrieve(\n",
    "            'https://www.cs.toronto.edu/~kriz/cifar-10-python.tar.gz',\n",
    "            'cifar-10-python.tar.gz',\n",
    "            pbar.hook)\n",
    "\n",
    "if not isdir(cifar10_dataset_folder_path):\n",
    "    with tarfile.open('cifar-10-python.tar.gz') as tar:\n",
    "        tar.extractall()\n",
    "        tar.close()\n",
    "\n",
    "\n",
    "tests.test_folder_path(cifar10_dataset_folder_path)"
   ]
  },
  {
   "cell_type": "markdown",
   "metadata": {},
   "source": [
    "## Explore the Data\n",
    "The dataset is broken into batches to prevent your machine from running out of memory.  The CIFAR-10 dataset consists of 5 batches, named `data_batch_1`, `data_batch_2`, etc.. Each batch contains the labels and images that are one of the following:\n",
    "* airplane\n",
    "* automobile\n",
    "* bird\n",
    "* cat\n",
    "* deer\n",
    "* dog\n",
    "* frog\n",
    "* horse\n",
    "* ship\n",
    "* truck\n",
    "\n",
    "Understanding a dataset is part of making predictions on the data.  Play around with the code cell below by changing the `batch_id` and `sample_id`. The `batch_id` is the id for a batch (1-5). The `sample_id` is the id for a image and label pair in the batch.\n",
    "\n",
    "Ask yourself \"What are all possible labels?\", \"What is the range of values for the image data?\", \"Are the labels in order or random?\".  Answers to questions like these will help you preprocess the data and end up with better predictions."
   ]
  },
  {
   "cell_type": "code",
   "execution_count": 2,
   "metadata": {
    "collapsed": false
   },
   "outputs": [
    {
     "name": "stdout",
     "output_type": "stream",
     "text": [
      "\n",
      "Stats of batch 1:\n",
      "Samples: 10000\n",
      "Label Counts: {0: 1005, 1: 974, 2: 1032, 3: 1016, 4: 999, 5: 937, 6: 1030, 7: 1001, 8: 1025, 9: 981}\n",
      "First 20 Labels: [6, 9, 9, 4, 1, 1, 2, 7, 8, 3, 4, 7, 7, 2, 9, 9, 9, 3, 2, 6]\n",
      "\n",
      "Example of Image 7:\n",
      "Image - Min Value: 9 Max Value: 248\n",
      "Image - Shape: (32, 32, 3)\n",
      "Label - Label Id: 7 Name: horse\n"
     ]
    },
    {
     "data": {
      "image/png": "[encoded data removed]",
      "text/plain": [
       "<matplotlib.figure.Figure at 0x201b94e3cf8>"
      ]
     },
     "metadata": {
      "image/png": {
       "height": 250,
       "width": 253
      }
     },
     "output_type": "display_data"
    }
   ],
   "source": [
    "%matplotlib inline\n",
    "%config InlineBackend.figure_format = 'retina'\n",
    "\n",
    "import helper\n",
    "import numpy as np\n",
    "\n",
    "# Explore the dataset\n",
    "batch_id = 1\n",
    "sample_id = 7\n",
    "helper.display_stats(cifar10_dataset_folder_path, batch_id, sample_id)"
   ]
  },
  {
   "cell_type": "markdown",
   "metadata": {},
   "source": [
    "## Implement Preprocess Functions\n",
    "### Normalize\n",
    "In the cell below, implement the `normalize` function to take in image data, `x`, and return it as a normalized Numpy array. The values should be in the range of 0 to 1, inclusive.  The return object should be the same shape as `x`."
   ]
  },
  {
   "cell_type": "code",
   "execution_count": 110,
   "metadata": {
    "collapsed": false
   },
   "outputs": [
    {
     "name": "stdout",
     "output_type": "stream",
     "text": [
      "Tests Passed\n"
     ]
    }
   ],
   "source": [
    "def normalize(x):\n",
    "    \"\"\"\n",
    "    Normalize a list of sample image data in the range of 0 to 1\n",
    "    : x: List of image data.  The image shape is (32, 32, 3)\n",
    "    : return: Numpy array of normalize data\n",
    "    \"\"\"\n",
    "    x = (x) / 256\n",
    "    return x\n",
    "\n",
    "\n",
    "\"\"\"\n",
    "DON'T MODIFY ANYTHING IN THIS CELL THAT IS BELOW THIS LINE\n",
    "\"\"\"\n",
    "tests.test_normalize(normalize)"
   ]
  },
  {
   "cell_type": "markdown",
   "metadata": {},
   "source": [
    "### One-hot encode\n",
    "Just like the previous code cell, you'll be implementing a function for preprocessing.  This time, you'll implement the `one_hot_encode` function. The input, `x`, are a list of labels.  Implement the function to return the list of labels as One-Hot encoded Numpy array.  The possible values for labels are 0 to 9. The one-hot encoding function should return the same encoding for each value between each call to `one_hot_encode`.  Make sure to save the map of encodings outside the function.\n",
    "\n",
    "Hint: Don't reinvent the wheel."
   ]
  },
  {
   "cell_type": "code",
   "execution_count": 6,
   "metadata": {
    "collapsed": false
   },
   "outputs": [
    {
     "name": "stdout",
     "output_type": "stream",
     "text": [
      "Tests Passed\n"
     ]
    }
   ],
   "source": [
    "from sklearn import preprocessing\n",
    "def one_hot_encode(x):\n",
    "    \"\"\"\n",
    "    One hot encode a list of sample labels. Return a one-hot encoded vector for each label.\n",
    "    : x: List of sample Labels\n",
    "    : return: Numpy array of one-hot encoded labels\n",
    "    \"\"\"\n",
    "    lb = preprocessing.LabelBinarizer()\n",
    "    lb.fit(range(10))\n",
    "    return lb.transform(x)\n",
    "\n",
    "\n",
    "\"\"\"\n",
    "DON'T MODIFY ANYTHING IN THIS CELL THAT IS BELOW THIS LINE\n",
    "\"\"\"\n",
    "tests.test_one_hot_encode(one_hot_encode)"
   ]
  },
  {
   "cell_type": "markdown",
   "metadata": {},
   "source": [
    "### Randomize Data\n",
    "As you saw from exploring the data above, the order of the samples are randomized.  It doesn't hurt to randomize it again, but you don't need to for this dataset."
   ]
  },
  {
   "cell_type": "markdown",
   "metadata": {},
   "source": [
    "## Preprocess all the data and save it\n",
    "Running the code cell below will preprocess all the CIFAR-10 data and save it to file. The code below also uses 10% of the training data for validation."
   ]
  },
  {
   "cell_type": "code",
   "execution_count": 7,
   "metadata": {
    "collapsed": false
   },
   "outputs": [],
   "source": [
    "\"\"\"\n",
    "DON'T MODIFY ANYTHING IN THIS CELL\n",
    "\"\"\"\n",
    "# Preprocess Training, Validation, and Testing Data\n",
    "helper.preprocess_and_save_data(cifar10_dataset_folder_path, normalize, one_hot_encode)"
   ]
  },
  {
   "cell_type": "markdown",
   "metadata": {},
   "source": [
    "# Check Point\n",
    "This is your first checkpoint.  If you ever decide to come back to this notebook or have to restart the notebook, you can start from here.  The preprocessed data has been saved to disk."
   ]
  },
  {
   "cell_type": "code",
   "execution_count": 8,
   "metadata": {
    "collapsed": true
   },
   "outputs": [],
   "source": [
    "\"\"\"\n",
    "DON'T MODIFY ANYTHING IN THIS CELL\n",
    "\"\"\"\n",
    "import pickle\n",
    "import problem_unittests as tests\n",
    "import helper\n",
    "\n",
    "# Load the Preprocessed Validation data\n",
    "valid_features, valid_labels = pickle.load(open('preprocess_validation.p', mode='rb'))"
   ]
  },
  {
   "cell_type": "markdown",
   "metadata": {},
   "source": [
    "## Build the network\n",
    "For the neural network, you'll build each layer into a function.  Most of the code you've seen has been outside of functions. To test your code more thoroughly, we require that you put each layer in a function.  This allows us to give you better feedback and test for simple mistakes using our unittests before you submit your project.\n",
    "\n",
    ">**Note:** If you're finding it hard to dedicate enough time for this course each week, we've provided a small shortcut to this part of the project. In the next couple of problems, you'll have the option to use classes from the [TensorFlow Layers](https://www.tensorflow.org/api_docs/python/tf/layers) or [TensorFlow Layers (contrib)](https://www.tensorflow.org/api_guides/python/contrib.layers) packages to build each layer, except the layers you build in the \"Convolutional and Max Pooling Layer\" section.  TF Layers is similar to Keras's and TFLearn's abstraction to layers, so it's easy to pickup.\n",
    "\n",
    ">However, if you would like to get the most out of this course, try to solve all the problems _without_ using anything from the TF Layers packages. You **can** still use classes from other packages that happen to have the same name as ones you find in TF Layers! For example, instead of using the TF Layers version of the `conv2d` class, [tf.layers.conv2d](https://www.tensorflow.org/api_docs/python/tf/layers/conv2d), you would want to use the TF Neural Network version of `conv2d`, [tf.nn.conv2d](https://www.tensorflow.org/api_docs/python/tf/nn/conv2d). \n",
    "\n",
    "Let's begin!\n",
    "\n",
    "### Input\n",
    "The neural network needs to read the image data, one-hot encoded labels, and dropout keep probability. Implement the following functions\n",
    "* Implement `neural_net_image_input`\n",
    " * Return a [TF Placeholder](https://www.tensorflow.org/api_docs/python/tf/placeholder)\n",
    " * Set the shape using `image_shape` with batch size set to `None`.\n",
    " * Name the TensorFlow placeholder \"x\" using the TensorFlow `name` parameter in the [TF Placeholder](https://www.tensorflow.org/api_docs/python/tf/placeholder).\n",
    "* Implement `neural_net_label_input`\n",
    " * Return a [TF Placeholder](https://www.tensorflow.org/api_docs/python/tf/placeholder)\n",
    " * Set the shape using `n_classes` with batch size set to `None`.\n",
    " * Name the TensorFlow placeholder \"y\" using the TensorFlow `name` parameter in the [TF Placeholder](https://www.tensorflow.org/api_docs/python/tf/placeholder).\n",
    "* Implement `neural_net_keep_prob_input`\n",
    " * Return a [TF Placeholder](https://www.tensorflow.org/api_docs/python/tf/placeholder) for dropout keep probability.\n",
    " * Name the TensorFlow placeholder \"keep_prob\" using the TensorFlow `name` parameter in the [TF Placeholder](https://www.tensorflow.org/api_docs/python/tf/placeholder).\n",
    "\n",
    "These names will be used at the end of the project to load your saved model.\n",
    "\n",
    "Note: `None` for shapes in TensorFlow allow for a dynamic size."
   ]
  },
  {
   "cell_type": "code",
   "execution_count": 112,
   "metadata": {
    "collapsed": false
   },
   "outputs": [
    {
     "name": "stdout",
     "output_type": "stream",
     "text": [
      "Image Input Tests Passed.\n",
      "Label Input Tests Passed.\n",
      "Keep Prob Tests Passed.\n"
     ]
    }
   ],
   "source": [
    "import tensorflow as tf\n",
    "\n",
    "def neural_net_image_input(image_shape):\n",
    "    \"\"\"\n",
    "    Return a Tensor for a bach of image input\n",
    "    : image_shape: Shape of the images\n",
    "    : return: Tensor for image input.\n",
    "    \"\"\"\n",
    "    return tf.placeholder(tf.float32, [None, *image_shape], name='x')\n",
    "\n",
    "\n",
    "def neural_net_label_input(n_classes):\n",
    "    \"\"\"\n",
    "    Return a Tensor for a batch of label input\n",
    "    : n_classes: Number of classes\n",
    "    : return: Tensor for label input.\n",
    "    \"\"\"\n",
    "    return tf.placeholder(tf.float32, [None, n_classes], name='y')\n",
    "\n",
    "\n",
    "def neural_net_keep_prob_input():\n",
    "    \"\"\"\n",
    "    Return a Tensor for keep probability\n",
    "    : return: Tensor for keep probability.\n",
    "    \"\"\"\n",
    "    return tf.placeholder(tf.float32, name='keep_prob')\n",
    "\n",
    "\n",
    "\"\"\"\n",
    "DON'T MODIFY ANYTHING IN THIS CELL THAT IS BELOW THIS LINE\n",
    "\"\"\"\n",
    "tf.reset_default_graph()\n",
    "tests.test_nn_image_inputs(neural_net_image_input)\n",
    "tests.test_nn_label_inputs(neural_net_label_input)\n",
    "tests.test_nn_keep_prob_inputs(neural_net_keep_prob_input)"
   ]
  },
  {
   "cell_type": "markdown",
   "metadata": {},
   "source": [
    "### Convolution and Max Pooling Layer\n",
    "Convolution layers have a lot of success with images. For this code cell, you should implement the function `conv2d_maxpool` to apply convolution then max pooling:\n",
    "* Create the weight and bias using `conv_ksize`, `conv_num_outputs` and the shape of `x_tensor`.\n",
    "* Apply a convolution to `x_tensor` using weight and `conv_strides`.\n",
    " * We recommend you use same padding, but you're welcome to use any padding.\n",
    "* Add bias\n",
    "* Add a nonlinear activation to the convolution.\n",
    "* Apply Max Pooling using `pool_ksize` and `pool_strides`.\n",
    " * We recommend you use same padding, but you're welcome to use any padding.\n",
    "\n",
    "**Note:** You **can't** use [TensorFlow Layers](https://www.tensorflow.org/api_docs/python/tf/layers) or [TensorFlow Layers (contrib)](https://www.tensorflow.org/api_guides/python/contrib.layers) for **this** layer, but you can still use TensorFlow's [Neural Network](https://www.tensorflow.org/api_docs/python/tf/nn) package. You may still use the shortcut option for all the **other** layers."
   ]
  },
  {
   "cell_type": "code",
   "execution_count": 113,
   "metadata": {
    "collapsed": true
   },
   "outputs": [],
   "source": [
    "# my debug code \n",
    "from IPython.display import display, HTML\n",
    "TREE = []\n",
    "def add_display_tree(net, add=''):\n",
    "    TREE.append((net.name + ' ' + str(add), str(net.get_shape().as_list()[1:])))\n",
    "def print_tree():\n",
    "    html = [\"<table width=50%>\"]\n",
    "    for row in TREE:\n",
    "        html.append(\"<tr>\")\n",
    "        html.append(\"<td>{0}</td> <td>{1}</td>\".format(*row))\n",
    "        html.append(\"</tr>\")\n",
    "    html.append(\"</table>\")\n",
    "    display(HTML(''.join(html)))\n"
   ]
  },
  {
   "cell_type": "code",
   "execution_count": 114,
   "metadata": {
    "collapsed": false
   },
   "outputs": [
    {
     "name": "stdout",
     "output_type": "stream",
     "text": [
      "Tests Passed\n"
     ]
    }
   ],
   "source": [
    "def conv2d_maxpool(x_tensor, conv_num_outputs, conv_ksize, conv_strides, pool_ksize, pool_strides):\n",
    "    \"\"\"\n",
    "    Apply convolution then max pooling to x_tensor\n",
    "    :param x_tensor: TensorFlow Tensor\n",
    "    :param conv_num_outputs: Number of outputs for the convolutional layer\n",
    "    :param conv_ksize: kernal size 2-D Tuple for the convolutional layer\n",
    "    :param conv_strides: Stride 2-D Tuple for convolution\n",
    "    :param pool_ksize: kernal size 2-D Tuple for pool\n",
    "    :param pool_strides: Stride 2-D Tuple for pool\n",
    "    : return: A tensor that represents convolution and max pooling of x_tensor\n",
    "    \"\"\"\n",
    "    weight = tf.Variable(tf.truncated_normal(\n",
    "        (*conv_ksize, x_tensor.get_shape().as_list()[-1], conv_num_outputs), stddev=0.02))\n",
    "    biases = tf.Variable(tf.zeros(conv_num_outputs))\n",
    "\n",
    "    conv = tf.nn.conv2d(x_tensor, weight, strides=[1, *conv_strides, 1], padding='SAME')\n",
    "    add_display_tree(conv, str(conv_ksize) + (conv_strides[0] > 1 and ' /' + str(conv_strides[0]) or ''))\n",
    "\n",
    "    conv = tf.nn.relu(conv + biases)\n",
    "    add_display_tree(conv)\n",
    "\n",
    "    conv = tf.nn.max_pool(conv, ksize=[1, *pool_ksize, 1], strides=[1, *pool_strides, 1], padding='SAME')\n",
    "    add_display_tree(conv, '/' + str(pool_strides[0]))\n",
    "    TREE.append(('---', '---'))\n",
    "    return conv \n",
    "\n",
    "\n",
    "\"\"\"\n",
    "DON'T MODIFY ANYTHING IN THIS CELL THAT IS BELOW THIS LINE\n",
    "\"\"\"\n",
    "tests.test_con_pool(conv2d_maxpool)"
   ]
  },
  {
   "cell_type": "markdown",
   "metadata": {},
   "source": [
    "### Flatten Layer\n",
    "Implement the `flatten` function to change the dimension of `x_tensor` from a 4-D tensor to a 2-D tensor.  The output should be the shape (*Batch Size*, *Flattened Image Size*). Shortcut option: you can use classes from the [TensorFlow Layers](https://www.tensorflow.org/api_docs/python/tf/layers) or [TensorFlow Layers (contrib)](https://www.tensorflow.org/api_guides/python/contrib.layers) packages for this layer. For more of a challenge, only use other TensorFlow packages."
   ]
  },
  {
   "cell_type": "code",
   "execution_count": 115,
   "metadata": {
    "collapsed": false
   },
   "outputs": [
    {
     "name": "stdout",
     "output_type": "stream",
     "text": [
      "Tests Passed\n"
     ]
    }
   ],
   "source": [
    "def flatten(x_tensor):\n",
    "    \"\"\"\n",
    "    Flatten x_tensor to (Batch Size, Flattened Image Size)\n",
    "    : x_tensor: A tensor of size (Batch Size, ...), where ... are the image dimensions.\n",
    "    : return: A tensor of size (Batch Size, Flattened Image Size).\n",
    "    \"\"\"\n",
    "    shape = x_tensor.get_shape().as_list()\n",
    "    size = shape[1] * shape[2] * shape[3]\n",
    "    reshape = tf.reshape(x_tensor, [-1, size])\n",
    "    add_display_tree(reshape)\n",
    "    return reshape\n",
    "\n",
    "\n",
    "\"\"\"\n",
    "DON'T MODIFY ANYTHING IN THIS CELL THAT IS BELOW THIS LINE\n",
    "\"\"\"\n",
    "tests.test_flatten(flatten)"
   ]
  },
  {
   "cell_type": "markdown",
   "metadata": {},
   "source": [
    "### Fully-Connected Layer\n",
    "Implement the `fully_conn` function to apply a fully connected layer to `x_tensor` with the shape (*Batch Size*, *num_outputs*). Shortcut option: you can use classes from the [TensorFlow Layers](https://www.tensorflow.org/api_docs/python/tf/layers) or [TensorFlow Layers (contrib)](https://www.tensorflow.org/api_guides/python/contrib.layers) packages for this layer. For more of a challenge, only use other TensorFlow packages."
   ]
  },
  {
   "cell_type": "code",
   "execution_count": 116,
   "metadata": {
    "collapsed": false
   },
   "outputs": [
    {
     "name": "stdout",
     "output_type": "stream",
     "text": [
      "Tests Passed\n"
     ]
    }
   ],
   "source": [
    "def fully_conn(x_tensor, num_outputs, activation=tf.nn.relu):\n",
    "    \"\"\"\n",
    "    Apply a fully connected layer to x_tensor using weight and bias\n",
    "    : x_tensor: A 2-D tensor where the first dimension is batch size.\n",
    "    : num_outputs: The number of output that the new tensor should be.\n",
    "    : return: A 2-D tensor where the second dimension is num_outputs.\n",
    "    \"\"\"\n",
    "    weight = tf.Variable(tf.truncated_normal((x_tensor.get_shape().as_list()[-1], num_outputs), stddev=0.02))\n",
    "    biases = tf.Variable(tf.zeros(num_outputs))\n",
    "    net = tf.matmul(x_tensor, weight) + biases\n",
    "    if activation is not None:\n",
    "        net = activation(net)\n",
    "    add_display_tree(net)\n",
    "    return net\n",
    "\n",
    "\n",
    "\"\"\"\n",
    "DON'T MODIFY ANYTHING IN THIS CELL THAT IS BELOW THIS LINE\n",
    "\"\"\"\n",
    "tests.test_fully_conn(fully_conn)"
   ]
  },
  {
   "cell_type": "markdown",
   "metadata": {},
   "source": [
    "### Output Layer\n",
    "Implement the `output` function to apply a fully connected layer to `x_tensor` with the shape (*Batch Size*, *num_outputs*). Shortcut option: you can use classes from the [TensorFlow Layers](https://www.tensorflow.org/api_docs/python/tf/layers) or [TensorFlow Layers (contrib)](https://www.tensorflow.org/api_guides/python/contrib.layers) packages for this layer. For more of a challenge, only use other TensorFlow packages.\n",
    "\n",
    "**Note:** Activation, softmax, or cross entropy should **not** be applied to this."
   ]
  },
  {
   "cell_type": "code",
   "execution_count": 117,
   "metadata": {
    "collapsed": false
   },
   "outputs": [
    {
     "name": "stdout",
     "output_type": "stream",
     "text": [
      "Tests Passed\n"
     ]
    }
   ],
   "source": [
    "def output(x_tensor, num_outputs):\n",
    "    \"\"\"\n",
    "    Apply a output layer to x_tensor using weight and bias\n",
    "    : x_tensor: A 2-D tensor where the first dimension is batch size.\n",
    "    : num_outputs: The number of output that the new tensor should be.\n",
    "    : return: A 2-D tensor where the second dimension is num_outputs.\n",
    "    \"\"\"\n",
    "    return fully_conn(x_tensor, num_outputs, activation=None)\n",
    "\n",
    "\n",
    "\"\"\"\n",
    "DON'T MODIFY ANYTHING IN THIS CELL THAT IS BELOW THIS LINE\n",
    "\"\"\"\n",
    "tests.test_output(output)"
   ]
  },
  {
   "cell_type": "markdown",
   "metadata": {},
   "source": [
    "### Create Convolutional Model\n",
    "Implement the function `conv_net` to create a convolutional neural network model. The function takes in a batch of images, `x`, and outputs logits.  Use the layers you created above to create this model:\n",
    "\n",
    "* Apply 1, 2, or 3 Convolution and Max Pool layers\n",
    "* Apply a Flatten Layer\n",
    "* Apply 1, 2, or 3 Fully Connected Layers\n",
    "* Apply an Output Layer\n",
    "* Return the output\n",
    "* Apply [TensorFlow's Dropout](https://www.tensorflow.org/api_docs/python/tf/nn/dropout) to one or more layers in the model using `keep_prob`. "
   ]
  },
  {
   "cell_type": "code",
   "execution_count": 176,
   "metadata": {
    "collapsed": false
   },
   "outputs": [
    {
     "name": "stdout",
     "output_type": "stream",
     "text": [
      "my debug info, net struct table:\n"
     ]
    },
    {
     "data": {
      "text/html": [
       "<table width=50%><tr><td>Conv2D:0 (3, 3)</td> <td>[32, 32, 64]</td></tr><tr><td>Relu:0 </td> <td>[32, 32, 64]</td></tr><tr><td>MaxPool:0 /1</td> <td>[32, 32, 64]</td></tr><tr><td>---</td> <td>---</td></tr><tr><td>Conv2D_1:0 (3, 3)</td> <td>[32, 32, 64]</td></tr><tr><td>Relu_1:0 </td> <td>[32, 32, 64]</td></tr><tr><td>MaxPool_1:0 /2</td> <td>[16, 16, 64]</td></tr><tr><td>---</td> <td>---</td></tr><tr><td>Conv2D_2:0 (3, 3)</td> <td>[16, 16, 128]</td></tr><tr><td>Relu_2:0 </td> <td>[16, 16, 128]</td></tr><tr><td>MaxPool_2:0 /1</td> <td>[16, 16, 128]</td></tr><tr><td>---</td> <td>---</td></tr><tr><td>Conv2D_3:0 (3, 3)</td> <td>[16, 16, 128]</td></tr><tr><td>Relu_3:0 </td> <td>[16, 16, 128]</td></tr><tr><td>MaxPool_3:0 /2</td> <td>[8, 8, 128]</td></tr><tr><td>---</td> <td>---</td></tr><tr><td>Conv2D_4:0 (3, 3)</td> <td>[8, 8, 256]</td></tr><tr><td>Relu_4:0 </td> <td>[8, 8, 256]</td></tr><tr><td>MaxPool_4:0 /1</td> <td>[8, 8, 256]</td></tr><tr><td>---</td> <td>---</td></tr><tr><td>Conv2D_5:0 (3, 3)</td> <td>[8, 8, 256]</td></tr><tr><td>Relu_5:0 </td> <td>[8, 8, 256]</td></tr><tr><td>MaxPool_5:0 /2</td> <td>[4, 4, 256]</td></tr><tr><td>---</td> <td>---</td></tr><tr><td>Reshape:0 </td> <td>[4096]</td></tr><tr><td>Relu_6:0 </td> <td>[2048]</td></tr><tr><td>Relu_7:0 </td> <td>[1024]</td></tr><tr><td>Relu_8:0 </td> <td>[256]</td></tr><tr><td>add_9:0 </td> <td>[10]</td></tr></table>"
      ],
      "text/plain": [
       "<IPython.core.display.HTML object>"
      ]
     },
     "metadata": {},
     "output_type": "display_data"
    },
    {
     "name": "stdout",
     "output_type": "stream",
     "text": [
      "Neural Network Built!\n"
     ]
    }
   ],
   "source": [
    "def conv_net(x, keep_prob):\n",
    "    \"\"\"\n",
    "    Create a convolutional neural network model\n",
    "    : x: Placeholder tensor that holds image data.\n",
    "    : keep_prob: Placeholder tensor that hold dropout keep probability.\n",
    "    : return: Tensor that represents logits\n",
    "    \"\"\"\n",
    "    # TODO: Apply 1, 2, or 3 Convolution and Max Pool layers\n",
    "    #    Play around with different number of outputs, kernel size and stride\n",
    "    # Function Definition from Above:\n",
    "    #    conv2d_maxpool(x_tensor, conv_num_outputs, conv_ksize, conv_strides, pool_ksize, pool_strides)\n",
    "#     net = conv2d_maxpool(x, conv_num_outputs=64, conv_ksize=(3, 3), conv_strides=(1, 1), \n",
    "#                          pool_ksize=(2, 2), pool_strides=(2, 2))\n",
    "#     net = conv2d_maxpool(net, conv_num_outputs=128, conv_ksize=(3, 3), conv_strides=(1, 1), \n",
    "#                          pool_ksize=(2, 2), pool_strides=(2, 2))\n",
    "#     net = conv2d_maxpool(net, conv_num_outputs=256, conv_ksize=(3, 3), conv_strides=(1, 1), \n",
    "#                          pool_ksize=(2, 2), pool_strides=(2, 2))\n",
    "    #net = tf.nn.dropout(net, keep_prob)\n",
    "\n",
    "    # normal net\n",
    "    net = conv2d_maxpool(x, conv_num_outputs=64, conv_ksize=(3, 3), conv_strides=(1, 1), \n",
    "                         pool_ksize=(1, 1), pool_strides=(1, 1))\n",
    "    net = conv2d_maxpool(net, conv_num_outputs=64, conv_ksize=(3, 3), conv_strides=(1, 1), \n",
    "                         pool_ksize=(2, 2), pool_strides=(2, 2))\n",
    "        \n",
    "    net = conv2d_maxpool(net, conv_num_outputs=128, conv_ksize=(3, 3), conv_strides=(1, 1), \n",
    "                         pool_ksize=(1, 1), pool_strides=(1, 1))\n",
    "    net = conv2d_maxpool(net, conv_num_outputs=128, conv_ksize=(3, 3), conv_strides=(1, 1), \n",
    "                         pool_ksize=(2, 2), pool_strides=(2, 2))\n",
    "    \n",
    "    net = conv2d_maxpool(net, conv_num_outputs=256, conv_ksize=(3, 3), conv_strides=(1, 1), \n",
    "                         pool_ksize=(1, 1), pool_strides=(1, 1))\n",
    "    net = conv2d_maxpool(net, conv_num_outputs=256, conv_ksize=(3, 3), conv_strides=(1, 1), \n",
    "                         pool_ksize=(2, 2), pool_strides=(2, 2))\n",
    "    \n",
    "    # TODO: Apply a Flatten Layer\n",
    "    # Function Definition from Above:\n",
    "    #   flatten(x_tensor)\n",
    "    net = flatten(net)\n",
    "    net = tf.nn.dropout(net, keep_prob)\n",
    "\n",
    "    # TODO: Apply 1, 2, or 3 Fully Connected Layers\n",
    "    #    Play around with different number of outputs\n",
    "    # Function Definition from Above:\n",
    "    #   fully_conn(x_tensor, num_outputs)\n",
    "    net = fully_conn(net, 2048)\n",
    "    net = fully_conn(net, 1024)\n",
    "    net = fully_conn(net, 256)\n",
    "\n",
    "    \n",
    "    # TODO: Apply an Output Layer\n",
    "    #    Set this to the number of classes\n",
    "    # Function Definition from Above:\n",
    "    #   output(x_tensor, num_outputs)\n",
    "    net = output(net, 10)\n",
    "    \n",
    "    # TODO: return output\n",
    "    return net\n",
    "\n",
    "TREE = []\n",
    "\"\"\"\n",
    "DON'T MODIFY ANYTHING IN THIS CELL THAT IS BELOW THIS LINE\n",
    "\"\"\"\n",
    "\n",
    "##############################\n",
    "## Build the Neural Network ##\n",
    "##############################\n",
    "\n",
    "# Remove previous weights, bias, inputs, etc..\n",
    "tf.reset_default_graph()\n",
    "\n",
    "# Inputs\n",
    "x = neural_net_image_input((32, 32, 3))\n",
    "y = neural_net_label_input(10)\n",
    "keep_prob = neural_net_keep_prob_input()\n",
    "\n",
    "# Model\n",
    "logits = conv_net(x, keep_prob)\n",
    "print('my debug info, net struct table:')\n",
    "print_tree()\n",
    "\n",
    "# Name logits Tensor, so that is can be loaded from disk after training\n",
    "logits = tf.identity(logits, name='logits')\n",
    "\n",
    "# Loss and Optimizer\n",
    "cost = tf.reduce_mean(tf.nn.softmax_cross_entropy_with_logits(logits=logits, labels=y))\n",
    "optimizer = tf.train.AdamOptimizer().minimize(cost)\n",
    "\n",
    "# Accuracy\n",
    "correct_pred = tf.equal(tf.argmax(logits, 1), tf.argmax(y, 1))\n",
    "accuracy = tf.reduce_mean(tf.cast(correct_pred, tf.float32), name='accuracy')\n",
    "\n",
    "tests.test_conv_net(conv_net)"
   ]
  },
  {
   "cell_type": "markdown",
   "metadata": {},
   "source": [
    "## Train the Neural Network\n",
    "### Single Optimization\n",
    "Implement the function `train_neural_network` to do a single optimization.  The optimization should use `optimizer` to optimize in `session` with a `feed_dict` of the following:\n",
    "* `x` for image input\n",
    "* `y` for labels\n",
    "* `keep_prob` for keep probability for dropout\n",
    "\n",
    "This function will be called for each batch, so `tf.global_variables_initializer()` has already been called.\n",
    "\n",
    "Note: Nothing needs to be returned. This function is only optimizing the neural network."
   ]
  },
  {
   "cell_type": "code",
   "execution_count": 119,
   "metadata": {
    "collapsed": false
   },
   "outputs": [
    {
     "name": "stdout",
     "output_type": "stream",
     "text": [
      "Tests Passed\n"
     ]
    }
   ],
   "source": [
    "def train_neural_network(session, optimizer, keep_probability, feature_batch, label_batch):\n",
    "    \"\"\"\n",
    "    Optimize the session on a batch of images and labels\n",
    "    : session: Current TensorFlow session\n",
    "    : optimizer: TensorFlow optimizer function\n",
    "    : keep_probability: keep probability\n",
    "    : feature_batch: Batch of Numpy image data\n",
    "    : label_batch: Batch of Numpy label data\n",
    "    \"\"\"\n",
    "    session.run(optimizer, feed_dict={\n",
    "        x: feature_batch,\n",
    "        y: label_batch,\n",
    "        keep_prob: keep_probability,\n",
    "\n",
    "    })\n",
    "    pass\n",
    "\n",
    "\n",
    "\"\"\"\n",
    "DON'T MODIFY ANYTHING IN THIS CELL THAT IS BELOW THIS LINE\n",
    "\"\"\"\n",
    "tests.test_train_nn(train_neural_network)"
   ]
  },
  {
   "cell_type": "markdown",
   "metadata": {},
   "source": [
    "### Show Stats\n",
    "Implement the function `print_stats` to print loss and validation accuracy.  Use the global variables `valid_features` and `valid_labels` to calculate validation accuracy.  Use a keep probability of `1.0` to calculate the loss and validation accuracy."
   ]
  },
  {
   "cell_type": "code",
   "execution_count": 177,
   "metadata": {
    "collapsed": false
   },
   "outputs": [],
   "source": [
    "def print_stats(session, feature_batch, label_batch, cost, accuracy):\n",
    "    \"\"\"\n",
    "    Print information about loss and validation accuracy\n",
    "    : session: Current TensorFlow session\n",
    "    : feature_batch: Batch of Numpy image data\n",
    "    : label_batch: Batch of Numpy label data\n",
    "    : cost: TensorFlow cost function\n",
    "    : accuracy: TensorFlow accuracy function\n",
    "    \"\"\"\n",
    "    tc, ta = session.run([cost, accuracy], feed_dict={\n",
    "        x: feature_batch,\n",
    "        y: label_batch,\n",
    "        keep_prob: 1,\n",
    "    })\n",
    "    \n",
    "    valid_accuracy_avg, valid_loss_avg = 0, 0\n",
    "    for batch_tx, batch_ty in helper.batch_features_labels(valid_features, valid_labels, 128):\n",
    "        vc, va = session.run([cost, accuracy], feed_dict={\n",
    "            x: batch_tx,\n",
    "            y: batch_ty,\n",
    "            keep_prob: 1,\n",
    "        })\n",
    "        valid_accuracy_avg += va\n",
    "        valid_loss_avg += vc\n",
    "    valid_accuracy_avg /= (len(valid_features) / 128)\n",
    "    valid_loss_avg /= (len(valid_features) / 128)\n",
    "        \n",
    "    print('train: {:.2%} (loss: {:.4}), valid: {:.2%} (loss: {:.4})'.format(\n",
    "        ta, tc, valid_accuracy_avg, valid_loss_avg))\n",
    "    pass"
   ]
  },
  {
   "cell_type": "markdown",
   "metadata": {},
   "source": [
    "### Hyperparameters\n",
    "Tune the following parameters:\n",
    "* Set `epochs` to the number of iterations until the network stops learning or start overfitting\n",
    "* Set `batch_size` to the highest number that your machine has memory for.  Most people set them to common sizes of memory:\n",
    " * 64\n",
    " * 128\n",
    " * 256\n",
    " * ...\n",
    "* Set `keep_probability` to the probability of keeping a node using dropout"
   ]
  },
  {
   "cell_type": "code",
   "execution_count": 164,
   "metadata": {
    "collapsed": true
   },
   "outputs": [],
   "source": [
    "# TODO: Tune Parameters\n",
    "epochs = 15\n",
    "batch_size = 128\n",
    "keep_probability = 0.5"
   ]
  },
  {
   "cell_type": "markdown",
   "metadata": {},
   "source": [
    "### Train on a Single CIFAR-10 Batch\n",
    "Instead of training the neural network on all the CIFAR-10 batches of data, let's use a single batch. This should save time while you iterate on the model to get a better accuracy.  Once the final validation accuracy is 50% or greater, run the model on all the data in the next section."
   ]
  },
  {
   "cell_type": "code",
   "execution_count": 178,
   "metadata": {
    "collapsed": false,
    "scrolled": true
   },
   "outputs": [
    {
     "name": "stdout",
     "output_type": "stream",
     "text": [
      "Checking the Training on a Single Batch...\n",
      "Epoch  1, CIFAR-10 Batch 1:  train: 10.00% (loss: 2.25), valid: 10.38% (loss: 2.363)\n",
      "Epoch  2, CIFAR-10 Batch 1:  train: 22.50% (loss: 2.115), valid: 25.48% (loss: 2.065)\n",
      "Epoch  3, CIFAR-10 Batch 1:  train: 45.00% (loss: 2.006), valid: 29.94% (loss: 1.944)\n",
      "Epoch  4, CIFAR-10 Batch 1:  train: 45.00% (loss: 1.882), valid: 34.58% (loss: 1.827)\n",
      "Epoch  5, CIFAR-10 Batch 1:  train: 47.50% (loss: 1.8), valid: 38.50% (loss: 1.71)\n",
      "Epoch  6, CIFAR-10 Batch 1:  train: 55.00% (loss: 1.66), valid: 40.12% (loss: 1.668)\n",
      "Epoch  7, CIFAR-10 Batch 1:  train: 55.00% (loss: 1.578), valid: 43.86% (loss: 1.6)\n",
      "Epoch  8, CIFAR-10 Batch 1:  train: 55.00% (loss: 1.5), valid: 46.00% (loss: 1.534)\n",
      "Epoch  9, CIFAR-10 Batch 1:  train: 57.50% (loss: 1.357), valid: 47.56% (loss: 1.485)\n",
      "Epoch 10, CIFAR-10 Batch 1:  train: 57.50% (loss: 1.235), valid: 49.66% (loss: 1.452)\n",
      "Epoch 11, CIFAR-10 Batch 1:  train: 65.00% (loss: 1.126), valid: 52.52% (loss: 1.415)\n",
      "Epoch 12, CIFAR-10 Batch 1:  train: 72.50% (loss: 0.9686), valid: 53.00% (loss: 1.425)\n",
      "Epoch 13, CIFAR-10 Batch 1:  train: 70.00% (loss: 0.8219), valid: 52.68% (loss: 1.464)\n",
      "Epoch 14, CIFAR-10 Batch 1:  train: 72.50% (loss: 0.7462), valid: 51.54% (loss: 1.459)\n",
      "Epoch 15, CIFAR-10 Batch 1:  train: 72.50% (loss: 0.7359), valid: 54.02% (loss: 1.476)\n"
     ]
    }
   ],
   "source": [
    "\"\"\"\n",
    "DON'T MODIFY ANYTHING IN THIS CELL\n",
    "\"\"\"\n",
    "print('Checking the Training on a Single Batch...')\n",
    "with tf.Session() as sess:\n",
    "    # Initializing the variables\n",
    "    sess.run(tf.global_variables_initializer())\n",
    "    \n",
    "    # Training cycle\n",
    "    for epoch in range(epochs):\n",
    "        batch_i = 1\n",
    "        for batch_features, batch_labels in helper.load_preprocess_training_batch(batch_i, batch_size):\n",
    "            train_neural_network(sess, optimizer, keep_probability, batch_features, batch_labels)\n",
    "        print('Epoch {:>2}, CIFAR-10 Batch {}:  '.format(epoch + 1, batch_i), end='')\n",
    "        print_stats(sess, batch_features, batch_labels, cost, accuracy)"
   ]
  },
  {
   "cell_type": "markdown",
   "metadata": {},
   "source": [
    "### Fully Train the Model\n",
    "Now that you got a good accuracy with a single CIFAR-10 batch, try it with all five batches."
   ]
  },
  {
   "cell_type": "code",
   "execution_count": 179,
   "metadata": {
    "collapsed": false
   },
   "outputs": [
    {
     "name": "stdout",
     "output_type": "stream",
     "text": [
      "Training...\n",
      "Epoch  1, CIFAR-10 Batch 1:  train: 17.50% (loss: 2.173), valid: 22.62% (loss: 2.155)\n",
      "Epoch  1, CIFAR-10 Batch 2:  train: 27.50% (loss: 1.967), valid: 27.76% (loss: 1.995)\n",
      "Epoch  1, CIFAR-10 Batch 3:  train: 32.50% (loss: 1.634), valid: 30.68% (loss: 2.093)\n",
      "Epoch  1, CIFAR-10 Batch 4:  train: 30.00% (loss: 1.519), valid: 36.82% (loss: 1.746)\n",
      "Epoch  1, CIFAR-10 Batch 5:  train: 32.50% (loss: 1.702), valid: 37.64% (loss: 1.682)\n",
      "Epoch  2, CIFAR-10 Batch 1:  train: 47.50% (loss: 1.773), valid: 44.16% (loss: 1.591)\n",
      "Epoch  2, CIFAR-10 Batch 2:  train: 50.00% (loss: 1.46), valid: 44.84% (loss: 1.572)\n",
      "Epoch  2, CIFAR-10 Batch 3:  train: 50.00% (loss: 1.256), valid: 45.34% (loss: 1.515)\n",
      "Epoch  2, CIFAR-10 Batch 4:  train: 35.00% (loss: 1.433), valid: 47.42% (loss: 1.478)\n",
      "Epoch  2, CIFAR-10 Batch 5:  train: 42.50% (loss: 1.501), valid: 50.36% (loss: 1.404)\n",
      "Epoch  3, CIFAR-10 Batch 1:  train: 55.00% (loss: 1.362), valid: 53.30% (loss: 1.343)\n",
      "Epoch  3, CIFAR-10 Batch 2:  train: 55.00% (loss: 1.125), valid: 50.66% (loss: 1.407)\n",
      "Epoch  3, CIFAR-10 Batch 3:  train: 62.50% (loss: 1.032), valid: 55.12% (loss: 1.298)\n",
      "Epoch  3, CIFAR-10 Batch 4:  train: 60.00% (loss: 1.133), valid: 55.26% (loss: 1.289)\n",
      "Epoch  3, CIFAR-10 Batch 5:  train: 57.50% (loss: 1.202), valid: 57.02% (loss: 1.253)\n",
      "Epoch  4, CIFAR-10 Batch 1:  train: 60.00% (loss: 1.115), valid: 59.28% (loss: 1.202)\n",
      "Epoch  4, CIFAR-10 Batch 2:  train: 65.00% (loss: 1.002), valid: 59.52% (loss: 1.183)\n",
      "Epoch  4, CIFAR-10 Batch 3:  train: 67.50% (loss: 0.8466), valid: 62.38% (loss: 1.147)\n",
      "Epoch  4, CIFAR-10 Batch 4:  train: 65.00% (loss: 0.9108), valid: 61.62% (loss: 1.159)\n",
      "Epoch  4, CIFAR-10 Batch 5:  train: 60.00% (loss: 1.12), valid: 61.60% (loss: 1.161)\n",
      "Epoch  5, CIFAR-10 Batch 1:  train: 67.50% (loss: 0.872), valid: 61.94% (loss: 1.134)\n",
      "Epoch  5, CIFAR-10 Batch 2:  train: 67.50% (loss: 0.8611), valid: 65.06% (loss: 1.072)\n",
      "Epoch  5, CIFAR-10 Batch 3:  train: 82.50% (loss: 0.6494), valid: 64.96% (loss: 1.052)\n",
      "Epoch  5, CIFAR-10 Batch 4:  train: 70.00% (loss: 0.669), valid: 66.76% (loss: 1.016)\n",
      "Epoch  5, CIFAR-10 Batch 5:  train: 70.00% (loss: 0.9116), valid: 65.82% (loss: 1.028)\n",
      "Epoch  6, CIFAR-10 Batch 1:  train: 75.00% (loss: 0.6824), valid: 66.56% (loss: 1.033)\n",
      "Epoch  6, CIFAR-10 Batch 2:  train: 75.00% (loss: 0.7439), valid: 67.88% (loss: 0.9801)\n",
      "Epoch  6, CIFAR-10 Batch 3:  train: 82.50% (loss: 0.5086), valid: 69.02% (loss: 0.9641)\n",
      "Epoch  6, CIFAR-10 Batch 4:  train: 85.00% (loss: 0.545), valid: 67.56% (loss: 0.99)\n",
      "Epoch  6, CIFAR-10 Batch 5:  train: 65.00% (loss: 0.8278), valid: 68.42% (loss: 1.013)\n",
      "Epoch  7, CIFAR-10 Batch 1:  train: 82.50% (loss: 0.5701), valid: 68.14% (loss: 0.97)\n",
      "Epoch  7, CIFAR-10 Batch 2:  train: 75.00% (loss: 0.5958), valid: 69.32% (loss: 0.9422)\n",
      "Epoch  7, CIFAR-10 Batch 3:  train: 90.00% (loss: 0.4675), valid: 67.06% (loss: 1.008)\n",
      "Epoch  7, CIFAR-10 Batch 4:  train: 90.00% (loss: 0.4355), valid: 69.72% (loss: 0.9174)\n",
      "Epoch  7, CIFAR-10 Batch 5:  train: 77.50% (loss: 0.6014), valid: 70.22% (loss: 0.9338)\n",
      "Epoch  8, CIFAR-10 Batch 1:  train: 87.50% (loss: 0.4643), valid: 69.42% (loss: 0.9554)\n",
      "Epoch  8, CIFAR-10 Batch 2:  train: 80.00% (loss: 0.4906), valid: 71.66% (loss: 0.8968)\n",
      "Epoch  8, CIFAR-10 Batch 3:  train: 87.50% (loss: 0.3889), valid: 70.94% (loss: 0.9366)\n",
      "Epoch  8, CIFAR-10 Batch 4:  train: 87.50% (loss: 0.3647), valid: 70.76% (loss: 0.91)\n",
      "Epoch  8, CIFAR-10 Batch 5:  train: 90.00% (loss: 0.467), valid: 70.96% (loss: 0.9492)\n",
      "Epoch  9, CIFAR-10 Batch 1:  train: 90.00% (loss: 0.3533), valid: 72.44% (loss: 0.8825)\n",
      "Epoch  9, CIFAR-10 Batch 2:  train: 90.00% (loss: 0.3349), valid: 72.46% (loss: 0.8783)\n",
      "Epoch  9, CIFAR-10 Batch 3:  train: 95.00% (loss: 0.22), valid: 72.94% (loss: 0.8776)\n",
      "Epoch  9, CIFAR-10 Batch 4:  train: 95.00% (loss: 0.2719), valid: 71.78% (loss: 0.8726)\n",
      "Epoch  9, CIFAR-10 Batch 5:  train: 97.50% (loss: 0.2914), valid: 73.14% (loss: 0.8578)\n",
      "Epoch 10, CIFAR-10 Batch 1:  train: 97.50% (loss: 0.2586), valid: 73.48% (loss: 0.8383)\n",
      "Epoch 10, CIFAR-10 Batch 2:  train: 87.50% (loss: 0.3078), valid: 73.12% (loss: 0.85)\n",
      "Epoch 10, CIFAR-10 Batch 3:  train: 97.50% (loss: 0.1792), valid: 74.34% (loss: 0.8428)\n",
      "Epoch 10, CIFAR-10 Batch 4:  train: 97.50% (loss: 0.2071), valid: 73.06% (loss: 0.8554)\n",
      "Epoch 10, CIFAR-10 Batch 5:  train: 92.50% (loss: 0.2696), valid: 74.06% (loss: 0.8452)\n",
      "Epoch 11, CIFAR-10 Batch 1:  train: 97.50% (loss: 0.1855), valid: 75.56% (loss: 0.8128)\n",
      "Epoch 11, CIFAR-10 Batch 2:  train: 92.50% (loss: 0.2362), valid: 75.32% (loss: 0.8252)\n",
      "Epoch 11, CIFAR-10 Batch 3:  train: 97.50% (loss: 0.1534), valid: 75.40% (loss: 0.8202)\n",
      "Epoch 11, CIFAR-10 Batch 4:  train: 97.50% (loss: 0.1688), valid: 75.34% (loss: 0.8099)\n",
      "Epoch 11, CIFAR-10 Batch 5:  train: 97.50% (loss: 0.2097), valid: 75.48% (loss: 0.8065)\n",
      "Epoch 12, CIFAR-10 Batch 1:  train: 95.00% (loss: 0.1734), valid: 75.66% (loss: 0.8115)\n",
      "Epoch 12, CIFAR-10 Batch 2:  train: 95.00% (loss: 0.1778), valid: 76.08% (loss: 0.807)\n",
      "Epoch 12, CIFAR-10 Batch 3:  train: 97.50% (loss: 0.1156), valid: 74.64% (loss: 0.8473)\n",
      "Epoch 12, CIFAR-10 Batch 4:  train: 95.00% (loss: 0.1663), valid: 72.92% (loss: 0.8884)\n",
      "Epoch 12, CIFAR-10 Batch 5:  train: 100.00% (loss: 0.1627), valid: 75.80% (loss: 0.7879)\n",
      "Epoch 13, CIFAR-10 Batch 1:  train: 100.00% (loss: 0.1372), valid: 76.36% (loss: 0.8216)\n",
      "Epoch 13, CIFAR-10 Batch 2:  train: 95.00% (loss: 0.1122), valid: 76.74% (loss: 0.8074)\n",
      "Epoch 13, CIFAR-10 Batch 3:  train: 97.50% (loss: 0.07605), valid: 76.72% (loss: 0.8069)\n",
      "Epoch 13, CIFAR-10 Batch 4:  train: 95.00% (loss: 0.1447), valid: 74.78% (loss: 0.8301)\n",
      "Epoch 13, CIFAR-10 Batch 5:  train: 100.00% (loss: 0.09281), valid: 76.06% (loss: 0.8002)\n",
      "Epoch 14, CIFAR-10 Batch 1:  train: 100.00% (loss: 0.1194), valid: 76.94% (loss: 0.7749)\n",
      "Epoch 14, CIFAR-10 Batch 2:  train: 100.00% (loss: 0.09657), valid: 76.64% (loss: 0.7988)\n",
      "Epoch 14, CIFAR-10 Batch 3:  train: 100.00% (loss: 0.06413), valid: 75.88% (loss: 0.8597)\n",
      "Epoch 14, CIFAR-10 Batch 4:  train: 97.50% (loss: 0.1284), valid: 75.12% (loss: 0.8073)\n",
      "Epoch 14, CIFAR-10 Batch 5:  train: 100.00% (loss: 0.06716), valid: 77.50% (loss: 0.7782)\n",
      "Epoch 15, CIFAR-10 Batch 1:  train: 95.00% (loss: 0.09666), valid: 77.86% (loss: 0.7787)\n",
      "Epoch 15, CIFAR-10 Batch 2:  train: 100.00% (loss: 0.07237), valid: 77.40% (loss: 0.7892)\n",
      "Epoch 15, CIFAR-10 Batch 3:  train: 97.50% (loss: 0.04978), valid: 76.88% (loss: 0.806)\n",
      "Epoch 15, CIFAR-10 Batch 4:  train: 97.50% (loss: 0.1105), valid: 76.00% (loss: 0.7991)\n",
      "Epoch 15, CIFAR-10 Batch 5:  train: 100.00% (loss: 0.02741), valid: 77.32% (loss: 0.8212)\n"
     ]
    }
   ],
   "source": [
    "\"\"\"\n",
    "DON'T MODIFY ANYTHING IN THIS CELL\n",
    "\"\"\"\n",
    "save_model_path = './image_classification'\n",
    "\n",
    "print('Training...')\n",
    "with tf.Session() as sess:\n",
    "    # Initializing the variables\n",
    "    sess.run(tf.global_variables_initializer())\n",
    "    \n",
    "    # Training cycle\n",
    "    for epoch in range(epochs):\n",
    "        # Loop over all batches\n",
    "        n_batches = 5\n",
    "        for batch_i in range(1, n_batches + 1):\n",
    "            for batch_features, batch_labels in helper.load_preprocess_training_batch(batch_i, batch_size):\n",
    "                train_neural_network(sess, optimizer, keep_probability, batch_features, batch_labels)\n",
    "            print('Epoch {:>2}, CIFAR-10 Batch {}:  '.format(epoch + 1, batch_i), end='')\n",
    "            print_stats(sess, batch_features, batch_labels, cost, accuracy)\n",
    "            \n",
    "    # Save Model\n",
    "    saver = tf.train.Saver()\n",
    "    save_path = saver.save(sess, save_model_path)"
   ]
  },
  {
   "cell_type": "markdown",
   "metadata": {},
   "source": [
    "# Checkpoint\n",
    "The model has been saved to disk.\n",
    "## Test Model\n",
    "Test your model against the test dataset.  This will be your final accuracy. You should have an accuracy greater than 50%. If you don't, keep tweaking the model architecture and parameters."
   ]
  },
  {
   "cell_type": "code",
   "execution_count": 188,
   "metadata": {
    "collapsed": false
   },
   "outputs": [
    {
     "name": "stdout",
     "output_type": "stream",
     "text": [
      "Testing Accuracy: 0.7478243670886076\n",
      "\n"
     ]
    },
    {
     "data": {
      "image/png": "[encoded data removed]",
      "text/plain": [
       "<matplotlib.figure.Figure at 0x2018092ecc0>"
      ]
     },
     "metadata": {
      "image/png": {
       "height": 319,
       "width": 355
      }
     },
     "output_type": "display_data"
    }
   ],
   "source": [
    "\"\"\"\n",
    "DON'T MODIFY ANYTHING IN THIS CELL\n",
    "\"\"\"\n",
    "%matplotlib inline\n",
    "%config InlineBackend.figure_format = 'retina'\n",
    "\n",
    "import tensorflow as tf\n",
    "import pickle\n",
    "import helper\n",
    "import random\n",
    "\n",
    "# Set batch size if not already set\n",
    "try:\n",
    "    if batch_size:\n",
    "        pass\n",
    "except NameError:\n",
    "    batch_size = 64\n",
    "\n",
    "save_model_path = './image_classification'\n",
    "n_samples = 4\n",
    "top_n_predictions = 3\n",
    "\n",
    "def test_model():\n",
    "    \"\"\"\n",
    "    Test the saved model against the test dataset\n",
    "    \"\"\"\n",
    "\n",
    "    test_features, test_labels = pickle.load(open('preprocess_training.p', mode='rb'))\n",
    "    loaded_graph = tf.Graph()\n",
    "\n",
    "    with tf.Session(graph=loaded_graph) as sess:\n",
    "        # Load model\n",
    "        loader = tf.train.import_meta_graph(save_model_path + '.meta')\n",
    "        loader.restore(sess, save_model_path)\n",
    "\n",
    "        # Get Tensors from loaded model\n",
    "        loaded_x = loaded_graph.get_tensor_by_name('x:0')\n",
    "        loaded_y = loaded_graph.get_tensor_by_name('y:0')\n",
    "        loaded_keep_prob = loaded_graph.get_tensor_by_name('keep_prob:0')\n",
    "        loaded_logits = loaded_graph.get_tensor_by_name('logits:0')\n",
    "        loaded_acc = loaded_graph.get_tensor_by_name('accuracy:0')\n",
    "        \n",
    "        # Get accuracy in batches for memory limitations\n",
    "        test_batch_acc_total = 0\n",
    "        test_batch_count = 0\n",
    "        \n",
    "        for train_feature_batch, train_label_batch in helper.batch_features_labels(test_features, test_labels, batch_size):\n",
    "            test_batch_acc_total += sess.run(\n",
    "                loaded_acc,\n",
    "                feed_dict={loaded_x: train_feature_batch, loaded_y: train_label_batch, loaded_keep_prob: 1.0})\n",
    "            test_batch_count += 1\n",
    "\n",
    "        print('Testing Accuracy: {}\\n'.format(test_batch_acc_total/test_batch_count))\n",
    "\n",
    "        # Print Random Samples\n",
    "        random_test_features, random_test_labels = tuple(zip(*random.sample(list(zip(test_features, test_labels)), n_samples)))\n",
    "        random_test_predictions = sess.run(\n",
    "            tf.nn.top_k(tf.nn.softmax(loaded_logits), top_n_predictions),\n",
    "            feed_dict={loaded_x: random_test_features, loaded_y: random_test_labels, loaded_keep_prob: 1.0})\n",
    "        helper.display_image_predictions(random_test_features, random_test_labels, random_test_predictions)\n",
    "\n",
    "\n",
    "test_model()"
   ]
  },
  {
   "cell_type": "markdown",
   "metadata": {},
   "source": [
    "## Why 50-70% Accuracy?\n",
    "You might be wondering why you can't get an accuracy any higher. First things first, 50% isn't bad for a simple CNN.  Pure guessing would get you 10% accuracy. However, you might notice people are getting scores [well above 70%](http://rodrigob.github.io/are_we_there_yet/build/classification_datasets_results.html#43494641522d3130).  That's because we haven't taught you all there is to know about neural networks. We still need to cover a few more techniques.\n",
    "## Submitting This Project\n",
    "When submitting this project, make sure to run all the cells before saving the notebook.  Save the notebook file as \"dlnd_image_classification.ipynb\" and save it as a HTML file under \"File\" -> \"Download as\".  Include the \"helper.py\" and \"problem_unittests.py\" files in your submission."
   ]
  }
 ],
 "metadata": {
  "kernelspec": {
   "display_name": "Python [conda env:tensorflow-gpu]",
   "language": "python",
   "name": "conda-env-tensorflow-gpu-py"
  },
  "language_info": {
   "codemirror_mode": {
    "name": "ipython",
    "version": 3
   },
   "file_extension": ".py",
   "mimetype": "text/x-python",
   "name": "python",
   "nbconvert_exporter": "python",
   "pygments_lexer": "ipython3",
   "version": "3.5.3"
  }
 },
 "nbformat": 4,
 "nbformat_minor": 0
}
